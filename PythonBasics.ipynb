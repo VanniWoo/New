{
  "nbformat": 4,
  "nbformat_minor": 0,
  "metadata": {
    "colab": {
      "name": "PythonBasics.ipynb",
      "version": "0.3.2",
      "provenance": [],
      "collapsed_sections": [],
      "toc_visible": true,
      "include_colab_link": true
    },
    "kernelspec": {
      "display_name": "Python 3",
      "language": "python",
      "name": "python3"
    },
    "language_info": {
      "codemirror_mode": {
        "name": "ipython",
        "version": 3
      },
      "file_extension": ".py",
      "mimetype": "text/x-python",
      "name": "python",
      "nbconvert_exporter": "python",
      "pygments_lexer": "ipython3",
      "version": "3.7.3"
    }
  },
  "cells": [
    {
      "cell_type": "markdown",
      "metadata": {
        "id": "view-in-github",
        "colab_type": "text"
      },
      "source": [
        "<a href=\"https://colab.research.google.com/github/VanniWoo/New/blob/revert-2-test2/PythonBasics.ipynb\" target=\"_parent\"><img src=\"https://colab.research.google.com/assets/colab-badge.svg\" alt=\"Open In Colab\"/></a>"
      ]
    },
    {
      "cell_type": "markdown",
      "metadata": {
        "colab_type": "text",
        "id": "IYgvIvo7_R54"
      },
      "source": [
        "# Introduction to Python"
      ]
    },
    {
      "cell_type": "code",
      "metadata": {
        "colab_type": "code",
        "id": "zQ6sSXQqvhr5",
        "colab": {}
      },
      "source": [
        "# Clic in the cell and press CRTL-ENTER (Windows) or CMD-ENTER (Mac)\n",
        "print(\"It works!\")"
      ],
      "execution_count": 0,
      "outputs": []
    },
    {
      "cell_type": "code",
      "metadata": {
        "colab_type": "code",
        "id": "JBKi-_9LL0ac",
        "colab": {
          "base_uri": "https://localhost:8080/",
          "height": 952
        },
        "outputId": "14af722f-cd21-434f-dd05-488f5ef9cf6b"
      },
      "source": [
        "# This downloads some files for later on\n",
        "# It will take 10 to 30 seconds\n",
        "!wget https://web.stanford.edu/~lcambier/pc/text.txt -O text.txt\n",
        "!wget https://web.stanford.edu/~lcambier/pc/star_wars_4th.txt -O star_wars_4th.txt\n",
        "!wget https://web.stanford.edu/~lcambier/pc/dist.all.last -O dist.all.last\n",
        "!wget https://web.stanford.edu/~lcambier/pc/dist.male.first -O dist.male.first\n",
        "!wget https://web.stanford.edu/~lcambier/pc/dist.female.first -O dist.female.first"
      ],
      "execution_count": 1,
      "outputs": [
        {
          "output_type": "stream",
          "text": [
            "--2019-08-13 16:33:48--  https://web.stanford.edu/~lcambier/pc/text.txt\n",
            "Resolving web.stanford.edu (web.stanford.edu)... 171.67.215.200\n",
            "Connecting to web.stanford.edu (web.stanford.edu)|171.67.215.200|:443... connected.\n",
            "HTTP request sent, awaiting response... 200 OK\n",
            "Length: 88 [text/plain]\n",
            "Saving to: ‘text.txt’\n",
            "\n",
            "text.txt            100%[===================>]      88  --.-KB/s    in 0s      \n",
            "\n",
            "2019-08-13 16:33:54 (4.66 MB/s) - ‘text.txt’ saved [88/88]\n",
            "\n",
            "--2019-08-13 16:33:54--  https://web.stanford.edu/~lcambier/pc/star_wars_4th.txt\n",
            "Resolving web.stanford.edu (web.stanford.edu)... 171.67.215.200\n",
            "Connecting to web.stanford.edu (web.stanford.edu)|171.67.215.200|:443... connected.\n",
            "HTTP request sent, awaiting response... 200 OK\n",
            "Length: 326321 (319K) [text/plain]\n",
            "Saving to: ‘star_wars_4th.txt’\n",
            "\n",
            "star_wars_4th.txt   100%[===================>] 318.67K   610KB/s    in 0.5s    \n",
            "\n",
            "2019-08-13 16:33:55 (610 KB/s) - ‘star_wars_4th.txt’ saved [326321/326321]\n",
            "\n",
            "--2019-08-13 16:33:56--  https://web.stanford.edu/~lcambier/pc/dist.all.last\n",
            "Resolving web.stanford.edu (web.stanford.edu)... 171.67.215.200\n",
            "Connecting to web.stanford.edu (web.stanford.edu)|171.67.215.200|:443... connected.\n",
            "HTTP request sent, awaiting response... 200 OK\n",
            "Length: 3107965 (3.0M)\n",
            "Saving to: ‘dist.all.last’\n",
            "\n",
            "dist.all.last       100%[===================>]   2.96M   900KB/s    in 3.4s    \n",
            "\n",
            "2019-08-13 16:34:00 (900 KB/s) - ‘dist.all.last’ saved [3107965/3107965]\n",
            "\n",
            "--2019-08-13 16:34:00--  https://web.stanford.edu/~lcambier/pc/dist.male.first\n",
            "Resolving web.stanford.edu (web.stanford.edu)... 171.67.215.200\n",
            "Connecting to web.stanford.edu (web.stanford.edu)|171.67.215.200|:443... connected.\n",
            "HTTP request sent, awaiting response... 200 OK\n",
            "Length: 42665 (42K)\n",
            "Saving to: ‘dist.male.first’\n",
            "\n",
            "dist.male.first     100%[===================>]  41.67K  --.-KB/s    in 0.07s   \n",
            "\n",
            "2019-08-13 16:34:01 (606 KB/s) - ‘dist.male.first’ saved [42665/42665]\n",
            "\n",
            "--2019-08-13 16:34:01--  https://web.stanford.edu/~lcambier/pc/dist.female.first\n",
            "Resolving web.stanford.edu (web.stanford.edu)... 171.67.215.200\n",
            "Connecting to web.stanford.edu (web.stanford.edu)|171.67.215.200|:443... connected.\n",
            "HTTP request sent, awaiting response... 200 OK\n",
            "Length: 149625 (146K)\n",
            "Saving to: ‘dist.female.first’\n",
            "\n",
            "dist.female.first   100%[===================>] 146.12K   689KB/s    in 0.2s    \n",
            "\n",
            "2019-08-13 16:34:02 (689 KB/s) - ‘dist.female.first’ saved [149625/149625]\n",
            "\n"
          ],
          "name": "stdout"
        }
      ]
    },
    {
      "cell_type": "markdown",
      "metadata": {
        "colab_type": "text",
        "id": "cOfRjRipDaTJ"
      },
      "source": [
        "## Variables"
      ]
    },
    {
      "cell_type": "markdown",
      "metadata": {
        "colab_type": "text",
        "id": "VlTJiagm-d5V"
      },
      "source": [
        "All programs manipulate data. \n",
        "Data of all sort is stored in memory in your computer, and can be refered using variables."
      ]
    },
    {
      "cell_type": "markdown",
      "metadata": {
        "colab_type": "text",
        "id": "EPT_561U5nG1"
      },
      "source": [
        "### Numbers"
      ]
    },
    {
      "cell_type": "markdown",
      "metadata": {
        "colab_type": "text",
        "id": "aJNDC3Gl_C2u"
      },
      "source": [
        "To visualize the data referenced by some variable, using print(...)."
      ]
    },
    {
      "cell_type": "code",
      "metadata": {
        "colab_type": "code",
        "id": "P9GkqguE_b_0",
        "colab": {}
      },
      "source": [
        "# Integer\n",
        "a = 2\n",
        "b = -3\n",
        "\n",
        "# Floating point number\n",
        "c = 12.4\n",
        "d = -1.342e-4\n",
        "\n",
        "# Visualize the data variables point to\n",
        "print(a)\n",
        "print(b)\n",
        "print(c)\n",
        "print(d)\n",
        "print(type(a)) # The type. In python, everything is a class. More on that later.\n",
        "print(type(d))"
      ],
      "execution_count": 0,
      "outputs": []
    },
    {
      "cell_type": "markdown",
      "metadata": {
        "colab_type": "text",
        "id": "V3gAhl255qtm"
      },
      "source": [
        "### Text"
      ]
    },
    {
      "cell_type": "code",
      "metadata": {
        "colab_type": "code",
        "id": "d6gueEu__m3v",
        "colab": {}
      },
      "source": [
        "s1 = \"String\"          # Double quotes\n",
        "s2 = 'Another string'  # Single quotes. It does the same.\n",
        "print(s1)\n",
        "print(s2)"
      ],
      "execution_count": 0,
      "outputs": []
    },
    {
      "cell_type": "markdown",
      "metadata": {
        "colab_type": "text",
        "id": "H76rvHBd_TdV"
      },
      "source": [
        "Note that strings are defined using double or single quote."
      ]
    },
    {
      "cell_type": "markdown",
      "metadata": {
        "colab_type": "text",
        "id": "OP-aQaL5503t"
      },
      "source": [
        "### Booleans"
      ]
    },
    {
      "cell_type": "markdown",
      "metadata": {
        "colab_type": "text",
        "id": "YSkd_P0K_XXk"
      },
      "source": [
        "Booleans are either True or False"
      ]
    },
    {
      "cell_type": "code",
      "metadata": {
        "colab_type": "code",
        "id": "-ERdYnAi_csX",
        "colab": {}
      },
      "source": [
        "a = True\n",
        "b = False\n",
        "print(a)\n",
        "print(b)"
      ],
      "execution_count": 0,
      "outputs": []
    },
    {
      "cell_type": "markdown",
      "metadata": {
        "colab_type": "text",
        "id": "S7KzKsleYnk-"
      },
      "source": [
        "### Arithmetics\n",
        "Supports the usual mathematical operations"
      ]
    },
    {
      "cell_type": "code",
      "metadata": {
        "colab_type": "code",
        "id": "oqNjdbtYYq61",
        "colab": {}
      },
      "source": [
        "a = 2\n",
        "b = 3.14\n",
        "print(a)\n",
        "print(b)\n",
        "c = a-b \n",
        "print(c)\n",
        "d = a*b\n",
        "print(d)"
      ],
      "execution_count": 0,
      "outputs": []
    },
    {
      "cell_type": "code",
      "metadata": {
        "colab_type": "code",
        "id": "JKLOlnthDDtC",
        "colab": {}
      },
      "source": [
        "a11 = 3.\n",
        "a12 = 3.\n",
        "a22 = 2.\n",
        "a21 = 1.\n",
        "b1  = 2.4\n",
        "b2  = 2.1"
      ],
      "execution_count": 0,
      "outputs": []
    },
    {
      "cell_type": "markdown",
      "metadata": {
        "colab_type": "text",
        "id": "gsuAfH6-_srB"
      },
      "source": [
        "#### Mini-Exercice: a calculator\n",
        "\n",
        "The solution of the following 2-by-2 system of equations\n",
        "\n",
        "$$ a_{11} x_1 + a_{12} x_2 = b_1 $$\n",
        "$$ a_{21} x_1 + a_{22} x_2 = b_2 $$\n",
        "\n",
        "Is given by\n",
        "$$ d = a_{11} a_{22} - a_{21} a_{12} $$\n",
        "$$ x_1 = \\frac{b_1 a_{22} - a_{12} b_2}{d} $$\n",
        "$$ x_2 = \\frac{b_2 a_{11} - a_{21} b_1}{d} $$\n",
        "\n",
        "Implement a short python code computing this formula and printing the solution"
      ]
    },
    {
      "cell_type": "markdown",
      "metadata": {
        "colab_type": "text",
        "id": "2G-kVrQT4nxh"
      },
      "source": [
        "**TODO:** compute and print x1 and x2, using the formula above"
      ]
    },
    {
      "cell_type": "code",
      "metadata": {
        "cellView": "form",
        "colab_type": "code",
        "id": "xAPJH3g5Plpz",
        "colab": {}
      },
      "source": [
        "#@title Solution\n",
        "detA = a11 * a22 - a21 * a12\n",
        "x1 = (b1 * a22 - a12 * b2)/detA\n",
        "x2 = (b2 * a11 - a21 * b1)/detA\n",
        "print(x1)\n",
        "print(x2)"
      ],
      "execution_count": 0,
      "outputs": []
    },
    {
      "cell_type": "markdown",
      "metadata": {
        "colab_type": "text",
        "id": "exl7W5WwZF1b"
      },
      "source": [
        "### Strings operations"
      ]
    },
    {
      "cell_type": "code",
      "metadata": {
        "colab_type": "code",
        "id": "pWY7m3MA6PBB",
        "colab": {}
      },
      "source": [
        "name = \"Léopold\"\n",
        "print(name)\n",
        "print(len(name))"
      ],
      "execution_count": 0,
      "outputs": []
    },
    {
      "cell_type": "markdown",
      "metadata": {
        "colab_type": "text",
        "id": "hZIx1zoM6I1d"
      },
      "source": [
        "#### Interpolation"
      ]
    },
    {
      "cell_type": "code",
      "metadata": {
        "colab_type": "code",
        "id": "GXGTkDtTZHhm",
        "colab": {
          "base_uri": "https://localhost:8080/",
          "height": 34
        },
        "outputId": "0a6c33e1-b667-4657-ffaa-914661351105"
      },
      "source": [
        "a = 3.14159\n",
        "b = 2.71828\n",
        "s = \"right?\"\n",
        "s2 = \"{} is the best number, but {:2e} is really cool too, {}\".format(a, b, s)\n",
        "print(s2)"
      ],
      "execution_count": 8,
      "outputs": [
        {
          "output_type": "stream",
          "text": [
            "3.14159 is the best number, but 2.718280e+00 is really cool too, right?\n"
          ],
          "name": "stdout"
        }
      ]
    },
    {
      "cell_type": "markdown",
      "metadata": {
        "colab_type": "text",
        "id": "TF0Ogwik6K6D"
      },
      "source": [
        "#### Concatenation"
      ]
    },
    {
      "cell_type": "code",
      "metadata": {
        "colab_type": "code",
        "id": "f2Usc8djUwRG",
        "colab": {}
      },
      "source": [
        "s = \"a\" + \"b\"\n",
        "print(s)\n",
        "a = 5\n",
        "print(\"zZ\" * a)"
      ],
      "execution_count": 0,
      "outputs": []
    },
    {
      "cell_type": "markdown",
      "metadata": {
        "colab_type": "text",
        "id": "WA39Nv7RVuyy"
      },
      "source": [
        "### Comparisons"
      ]
    },
    {
      "cell_type": "code",
      "metadata": {
        "colab_type": "code",
        "id": "KQVg9-NCVwm2",
        "colab": {
          "base_uri": "https://localhost:8080/",
          "height": 119
        },
        "outputId": "8c868b2f-7c9e-4f6d-f3a0-93f8fe940665"
      },
      "source": [
        "print(1 > 2) # False\n",
        "print(2 < 1) # False\n",
        "print(\"String\" == \"String\") # True\n",
        "print(not(1 > 2)) # True\n",
        "print(1 != 2)     # True\n",
        "\n",
        "a=(1>2)\n",
        "print(a)"
      ],
      "execution_count": 10,
      "outputs": [
        {
          "output_type": "stream",
          "text": [
            "False\n",
            "False\n",
            "True\n",
            "True\n",
            "True\n",
            "False\n"
          ],
          "name": "stdout"
        }
      ]
    },
    {
      "cell_type": "markdown",
      "metadata": {
        "colab_type": "text",
        "id": "YUERxj90ZasC"
      },
      "source": [
        "### Conversion"
      ]
    },
    {
      "cell_type": "code",
      "metadata": {
        "colab_type": "code",
        "id": "Imm7HlF1ZhHf",
        "colab": {
          "base_uri": "https://localhost:8080/",
          "height": 119
        },
        "outputId": "c34e3a8b-261c-4b1e-cff2-5dd090581e49"
      },
      "source": [
        "print(int(2.7))\n",
        "print(float(4))\n",
        "print(str(2.3))\n",
        "print(str(4))\n",
        "print(int('1342'))  #make text into a number\n",
        "a = float(\"1.43e12\")\n",
        "print(a)"
      ],
      "execution_count": 11,
      "outputs": [
        {
          "output_type": "stream",
          "text": [
            "2\n",
            "4.0\n",
            "2.3\n",
            "4\n",
            "1342\n",
            "1430000000000.0\n"
          ],
          "name": "stdout"
        }
      ]
    },
    {
      "cell_type": "markdown",
      "metadata": {
        "colab_type": "text",
        "id": "DRAc4zCyDmE_"
      },
      "source": [
        "## Control-Flow"
      ]
    },
    {
      "cell_type": "markdown",
      "metadata": {
        "colab_type": "text",
        "id": "d0PGIIsP8S3K"
      },
      "source": [
        "### if/elif/else"
      ]
    },
    {
      "cell_type": "markdown",
      "metadata": {
        "colab_type": "text",
        "id": "MHJdc4SlDoBr"
      },
      "source": [
        "Like in most other languages. \n",
        "Allows to perform operations depending on \n",
        "One key difference: indentation matters!"
      ]
    },
    {
      "cell_type": "code",
      "metadata": {
        "colab_type": "code",
        "id": "5JzbdscKDuv4",
        "colab": {}
      },
      "source": [
        "a = 3\n",
        "b = 3\n",
        "if a > b:\n",
        "    print(\"a > b\") # Note the indentation. Can be arbitrary \n",
        "                   # but should be consistent.\n",
        "                   # Please use 2 or 4 spaces.\n",
        "    if a == 2:\n",
        "        print('a == 2 and a > b')\n",
        "        \n",
        "elif a == b:\n",
        "    print(\"a == b\")\n",
        "elif a == 2:\n",
        "    print(\"a == 2\")\n",
        "else:\n",
        "    print(\"a < b\")"
      ],
      "execution_count": 0,
      "outputs": []
    },
    {
      "cell_type": "markdown",
      "metadata": {
        "colab_type": "text",
        "id": "ziy9angI8DnD"
      },
      "source": [
        "### Ranges"
      ]
    },
    {
      "cell_type": "markdown",
      "metadata": {
        "colab_type": "text",
        "id": "fHokzGQBEp79"
      },
      "source": [
        "\"range(10)\" returns an iterators over 0 ... 9 and is the same as doing `for(int i = 0; i < 10; i++)` in C/C++\n",
        "\n",
        "\n",
        "\n"
      ]
    },
    {
      "cell_type": "code",
      "metadata": {
        "colab_type": "code",
        "id": "_mz2xqGUD8MN",
        "colab": {}
      },
      "source": [
        "a = 1\n",
        "b = 1\n",
        "stop = 10\n",
        "for i in range(stop):\n",
        "    print(a)\n",
        "    sumab = a+b\n",
        "    a = b\n",
        "    b = sumab\n",
        "print(a) # What is this equal to?"
      ],
      "execution_count": 0,
      "outputs": []
    },
    {
      "cell_type": "markdown",
      "metadata": {
        "colab_type": "text",
        "id": "LOPdharl8Vgd"
      },
      "source": [
        "### While"
      ]
    },
    {
      "cell_type": "code",
      "metadata": {
        "colab_type": "code",
        "id": "moO_hogsEvQL",
        "colab": {}
      },
      "source": [
        "n = 1\n",
        "while n < 1000:\n",
        "    n = n+1\n",
        "print(n) # What is this equal to?"
      ],
      "execution_count": 0,
      "outputs": []
    },
    {
      "cell_type": "markdown",
      "metadata": {
        "colab_type": "text",
        "id": "AdeRoqKzE9GS"
      },
      "source": [
        "All with the usual break/continue"
      ]
    },
    {
      "cell_type": "code",
      "metadata": {
        "colab_type": "code",
        "id": "yWgc5ANlE8mw",
        "colab": {}
      },
      "source": [
        "for i in range(10, 30):\n",
        "    if i % 2 == 0:\n",
        "        continue # Skip to the next iteration\n",
        "    elif i == 27:\n",
        "        break # Stop the loop\n",
        "    else:\n",
        "        print(i)"
      ],
      "execution_count": 0,
      "outputs": []
    },
    {
      "cell_type": "markdown",
      "metadata": {
        "colab_type": "text",
        "id": "RQ4BXla8AEcI"
      },
      "source": [
        "### Mini-Exercise: an approximation to e\n",
        "\n",
        "For all $n \\geq 0$, the following is an approximation of $e$ that gets better as $n$ grows:\n",
        "\n",
        "$$ e = \\sum_{k=0}^{n} \\frac{1}{k!}$$\n",
        "\n",
        "Compute an approximation using from $n=1$ to $n=30$ terms and compute the error you get for each approximation. Stop when the error is below 1e-10."
      ]
    },
    {
      "cell_type": "code",
      "metadata": {
        "colab_type": "code",
        "id": "Q5464R88Aw4L",
        "colab": {}
      },
      "source": [
        "import math\n",
        "# Run this first to add math functions\n",
        "# Exact e can be obtained by math.e\n",
        "print(math.e)\n",
        "# k! can be computed using math.factorial(k)\n",
        "print(math.factorial(10))"
      ],
      "execution_count": 0,
      "outputs": []
    },
    {
      "cell_type": "code",
      "metadata": {
        "cellView": "both",
        "colab_type": "code",
        "id": "hoiwvlUBQCBd",
        "colab": {}
      },
      "source": [
        "#@title Solution\n",
        "e_approx = 0\n",
        "for n in range(30):\n",
        "    e_approx = e_approx + 1 / math.factorial(n)\n",
        "    err = abs(math.e-e_approx)\n",
        "    print(\"{}: true {} approx {} error {}\".format(n, math.e, e_approx, err))\n",
        "    if(err < 1e-10):\n",
        "        break\n",
        "        "
      ],
      "execution_count": 0,
      "outputs": []
    },
    {
      "cell_type": "markdown",
      "metadata": {
        "colab_type": "text",
        "id": "Rk0RUZYcBSro"
      },
      "source": [
        "## Containers\n",
        "Containers are used to combine many basic values (integers, real numbers, strings) together, and perform operations on many of them"
      ]
    },
    {
      "cell_type": "markdown",
      "metadata": {
        "colab_type": "text",
        "id": "gzrUpMNRCs7v"
      },
      "source": [
        "### Lists"
      ]
    },
    {
      "cell_type": "markdown",
      "metadata": {
        "colab_type": "text",
        "id": "UyDjPO_ABWOL"
      },
      "source": [
        "You can put multiple variables into another variable."
      ]
    },
    {
      "cell_type": "code",
      "metadata": {
        "colab_type": "code",
        "id": "gAXg7i25BVsk",
        "colab": {}
      },
      "source": [
        "# A list of 3 integers\n",
        "a = [1, 2, 3]\n",
        "print(a)\n",
        "# 3 strings\n",
        "b = [\"A\", \"B\", \"C\"]\n",
        "print(b)\n",
        "# A mix of real number, integer and string\n",
        "c = [1e-4, 1, \"C\"]\n",
        "print(c)\n",
        "# A mix of lists !\n",
        "L = [a, b, c]\n",
        "print(L)\n",
        "# The length of a list\n",
        "print(len(L))"
      ],
      "execution_count": 0,
      "outputs": []
    },
    {
      "cell_type": "markdown",
      "metadata": {
        "colab_type": "text",
        "id": "5OZJw9XL-oP2"
      },
      "source": [
        "#### Indexing"
      ]
    },
    {
      "cell_type": "markdown",
      "metadata": {
        "colab_type": "text",
        "id": "nRqehC0RBlPa"
      },
      "source": [
        "All indexing in python is **0-based**. Like C/C++ or Go. Unlike Matlab, Fortran or Julia"
      ]
    },
    {
      "cell_type": "code",
      "metadata": {
        "colab_type": "code",
        "id": "sUoPzXO9Bvs8",
        "colab": {}
      },
      "source": [
        "# A list\n",
        "a = ['A', 'B', 'C', 'D', 'E', 'F', 'G']\n",
        "print(a)\n",
        "# The first element of the list\n",
        "print(a[0])\n",
        "# Change the second element\n",
        "a[1] = 'Abis'\n",
        "print(a)"
      ],
      "execution_count": 0,
      "outputs": []
    },
    {
      "cell_type": "markdown",
      "metadata": {
        "colab_type": "text",
        "id": "rUVHUXvE-rwH"
      },
      "source": [
        "#### Slicing"
      ]
    },
    {
      "cell_type": "markdown",
      "metadata": {
        "colab_type": "text",
        "id": "0Qqhlhz3CH8f"
      },
      "source": [
        "Python has a natural slicing syntax.\n",
        "If A is a list (or array or other indexable structure)\n",
        "`A[start:end:slice]` will return *a new list* equal to\n",
        "`A[start, start+slice, start+2*slice, ... ]`\n",
        "where the last element has index at most end-1.\n",
        "Start can be ommited (default 0), end too (default len(a)), slice too (default 1)"
      ]
    },
    {
      "cell_type": "code",
      "metadata": {
        "colab_type": "code",
        "id": "36Og8ZxlCYQj",
        "colab": {}
      },
      "source": [
        "a = ['A', 'B', 'C', 'D', 'E', 'F', 'G']\n",
        "a1 = a[2:5]\n",
        "print(a1)\n",
        "a2 = a[::2]\n",
        "print(a2)\n",
        "a3 = a[1::3]\n",
        "print(a3)"
      ],
      "execution_count": 0,
      "outputs": []
    },
    {
      "cell_type": "markdown",
      "metadata": {
        "colab_type": "text",
        "id": "HnF9jPk8MDSX"
      },
      "source": [
        "You can even use negative start/end/step"
      ]
    },
    {
      "cell_type": "code",
      "metadata": {
        "colab_type": "code",
        "id": "uNVXkHt5MGVl",
        "colab": {}
      },
      "source": [
        "a = ['A', 'B', 'C', 'D', 'E', 'F', 'G']\n",
        "print(a[-1])"
      ],
      "execution_count": 0,
      "outputs": []
    },
    {
      "cell_type": "code",
      "metadata": {
        "colab_type": "code",
        "id": "nEEDWGuuMQiB",
        "colab": {}
      },
      "source": [
        "print(a[-6:5]) # = ?"
      ],
      "execution_count": 0,
      "outputs": []
    },
    {
      "cell_type": "markdown",
      "metadata": {
        "colab_type": "text",
        "id": "z1fIc1rf_Fxh"
      },
      "source": [
        "#### Append"
      ]
    },
    {
      "cell_type": "code",
      "metadata": {
        "colab_type": "code",
        "id": "deus-0BXI0Wd",
        "colab": {}
      },
      "source": [
        "# Create list\n",
        "l = [1, 2]\n",
        "print(l)\n",
        "# Add `1` at the end\n",
        "l.append(1)\n",
        "print(l)\n",
        "# Remove the second entry\n",
        "del l[1]\n",
        "print(l)"
      ],
      "execution_count": 0,
      "outputs": []
    },
    {
      "cell_type": "markdown",
      "metadata": {
        "colab_type": "text",
        "id": "dUT7SERJ_5L0"
      },
      "source": [
        "#### List comprehension\n",
        "The most Pythonic thing there is"
      ]
    },
    {
      "cell_type": "code",
      "metadata": {
        "colab_type": "code",
        "id": "eQsnLHXWIE9a",
        "colab": {}
      },
      "source": [
        "# 1. Create v[i] = i^2 (square) for i = 0, 1, ..., 9\n",
        "v = [i**2 for i in range(10)]\n",
        "print(v)\n",
        "\n",
        "# 2. Create v[i] = 0 + 1 + ... + i for i = 0, 1, ..., 9\n",
        "v = [sum(range(i)) for i in range(10)]\n",
        "print(v)\n",
        "\n",
        "# 3. Like (1) but only if i is even\n",
        "v = [i**2 for i in range(10) if i % 2 == 0]\n",
        "print(v)\n",
        "\n",
        "# 4. Crazy stuff !\n",
        "v = [(i,j) for i in range(10) if i // 2 == 0 for j in range(10, 20) if i % j == i]\n",
        "print(v)"
      ],
      "execution_count": 0,
      "outputs": []
    },
    {
      "cell_type": "markdown",
      "metadata": {
        "colab_type": "text",
        "id": "35CQVZSMItMv"
      },
      "source": [
        "#### Mini-Exercise: a dot product\n",
        "$$ s= \\sum_{i=1}^N a_i b_i $$\n"
      ]
    },
    {
      "cell_type": "code",
      "metadata": {
        "colab_type": "code",
        "id": "hbkX3l5oJI7t",
        "colab": {}
      },
      "source": [
        "a = [1, 4, 2, 4, 7, 1, 3, 6, 9]\n",
        "b = [4, 9, 1, 2, 4, 6, 7, 8, 1]\n",
        "\n",
        "# TODO: compute s, a single integer"
      ],
      "execution_count": 0,
      "outputs": []
    },
    {
      "cell_type": "code",
      "metadata": {
        "cellView": "form",
        "colab_type": "code",
        "id": "25jha29GQQG2",
        "colab": {}
      },
      "source": [
        "#@title Solution\n",
        "s = 0\n",
        "for i in range(len(a)):\n",
        "    s = s + a[i]*b[i]\n",
        "print(s)"
      ],
      "execution_count": 0,
      "outputs": []
    },
    {
      "cell_type": "markdown",
      "metadata": {
        "colab_type": "text",
        "id": "IlH5Jyp3JcMc"
      },
      "source": [
        "#### Mini-Exercise: a matrix-vector product\n",
        "$$A \\in \\mathbb{R}^{m \\times n}, x \\in \\mathbb{R}^n, y \\in \\mathbb{R}^m$$\n",
        "$$y_i = \\sum_{j=1}^n A_{ij} x_j$$\n"
      ]
    },
    {
      "cell_type": "code",
      "metadata": {
        "colab_type": "code",
        "id": "lBA-2Y-jKCaj",
        "colab": {}
      },
      "source": [
        "# 3x5-matrix using a list of lists. \n",
        "# Use A[i][j] for A_(ij)\n",
        "A = [ [1, 6, 3, 6, 7], \n",
        "      [5, 8, 3, 1, 3], \n",
        "      [6, 8, 3, 2, 4] ] \n",
        "x = [3, 6, 6, 3, 4] # 5-vector\n",
        "\n",
        "# TODO: compute y, an integer list of length 3"
      ],
      "execution_count": 0,
      "outputs": []
    },
    {
      "cell_type": "code",
      "metadata": {
        "cellView": "both",
        "colab_type": "code",
        "id": "4k2sO13iQV6X",
        "colab": {}
      },
      "source": [
        "#@title Solution\n",
        "y = [0, 0, 0] # 3-vector\n",
        "for i in range(3):\n",
        "    for j in range(5):\n",
        "        y[i] += A[i][j] * x[j]\n",
        "print(y)"
      ],
      "execution_count": 0,
      "outputs": []
    },
    {
      "cell_type": "markdown",
      "metadata": {
        "colab_type": "text",
        "id": "rrkPbiOuZYlE"
      },
      "source": [
        "#### Mini-Exercise: a matrix-matrix product\n",
        "$$A \\in \\mathbb{R}^{m \\times r}, B \\in \\mathbb{R}^{r \\times n}, C \\in \\mathbb{R}^{m \\times n}$$\n",
        "$$C_{ij} = \\sum_{k=1}^r A_{ik} B_{kj}$$"
      ]
    },
    {
      "cell_type": "code",
      "metadata": {
        "colab_type": "code",
        "id": "qMACqL4tZnWD",
        "colab": {}
      },
      "source": [
        "A = [ [1, 6, 3, 6, 7], \n",
        "      [5, 8, 3, 1, 3], \n",
        "      [6, 8, 3, 2, 4] ] # 3x5\n",
        "B = [ [1, 2], \n",
        "      [3, 4], \n",
        "      [5, 6],\n",
        "      [7, 8],\n",
        "      [9, 10] ] # 5x2\n",
        "\n",
        "# TODO: compute C, a list of list, representing a matrix of size 3x2"
      ],
      "execution_count": 0,
      "outputs": []
    },
    {
      "cell_type": "code",
      "metadata": {
        "cellView": "both",
        "colab_type": "code",
        "id": "_nHmX2pQQZd_",
        "colab": {}
      },
      "source": [
        "#@title Solution\n",
        "C = [ [0, 0] for i in range(3) ] # 3 x 2\n",
        "for i in range(3):\n",
        "    for j in range(2):\n",
        "        for k in range(5):\n",
        "            C[i][j] += A[i][k] * B[k][j]\n",
        "print(C)            \n"
      ],
      "execution_count": 0,
      "outputs": []
    },
    {
      "cell_type": "markdown",
      "metadata": {
        "colab_type": "text",
        "id": "J7yK_d6XIfuh"
      },
      "source": [
        "#### Mini-Exercise: list comprehension\n",
        "In one line, create a list c which correspond to the square difference of pairwise elements of a and b, only if the elements in a are even (otherwise, skip)."
      ]
    },
    {
      "cell_type": "code",
      "metadata": {
        "colab_type": "code",
        "id": "RGMCbeCdIwgK",
        "colab": {}
      },
      "source": [
        "a = [3, 4, 2, 3, 5, 4, 8, 3, 5, 4, 8, 1, 2, 0]\n",
        "b = [2, 4, 0, 3, 1, 6, 7, 4, 2, 1, 8, 9, 3, 0]\n",
        "\n",
        "# TODO: construct c"
      ],
      "execution_count": 0,
      "outputs": []
    },
    {
      "cell_type": "code",
      "metadata": {
        "cellView": "form",
        "colab_type": "code",
        "id": "YeXydmE-QcHP",
        "colab": {}
      },
      "source": [
        "#@title Solution #1\n",
        "c = [(a[i]-b[i])**2 for i in range(len(a)) if (a[i] % 2 == 0)]\n",
        "print(c)"
      ],
      "execution_count": 0,
      "outputs": []
    },
    {
      "cell_type": "code",
      "metadata": {
        "colab_type": "code",
        "id": "Uy22f05GcmDb",
        "cellView": "form",
        "colab": {}
      },
      "source": [
        "#@title Solution #2\n",
        "c = [(ai-bi)**2 for (ai,bi) in zip(a,b) if ai % 2 == 0]\n",
        "print(c)"
      ],
      "execution_count": 0,
      "outputs": []
    },
    {
      "cell_type": "markdown",
      "metadata": {
        "colab_type": "text",
        "id": "goMGjmZLCvng"
      },
      "source": [
        "### Tuples\n",
        "\n",
        "Like lists, but immutable. Cannot be changed."
      ]
    },
    {
      "cell_type": "code",
      "metadata": {
        "colab_type": "code",
        "id": "8UWi0-DDCyAr",
        "colab": {}
      },
      "source": [
        "l = [1, \"Foo\", 3.14, 2.71, \"42\"]\n",
        "l[0] = 10 # OK!\n",
        "print(l)\n",
        "\n",
        "#a = (1, \"Foo\", 3.14, 2.71, \"42\")\n",
        "#a[0] = 2 # Error\n",
        "#print(a)"
      ],
      "execution_count": 0,
      "outputs": []
    },
    {
      "cell_type": "markdown",
      "metadata": {
        "colab_type": "text",
        "id": "iKc04IMFBE2v"
      },
      "source": [
        "But otherwise, they support most of the same operations as lists"
      ]
    },
    {
      "cell_type": "code",
      "metadata": {
        "colab_type": "code",
        "id": "SpKGyVDnC2vz",
        "colab": {}
      },
      "source": [
        "print(len(a))\n",
        "print(a[0])\n",
        "print(a[1::3])"
      ],
      "execution_count": 0,
      "outputs": []
    },
    {
      "cell_type": "markdown",
      "metadata": {
        "colab_type": "text",
        "id": "AnVSzJbFDCIu"
      },
      "source": [
        "### Dictionnaries\n",
        "\n",
        "Dictionnaries are (mutable) collections of (key, value) pairs."
      ]
    },
    {
      "cell_type": "code",
      "metadata": {
        "colab_type": "code",
        "id": "Bi-5drHGDLDn",
        "colab": {}
      },
      "source": [
        "D = {\"John\":1685, \"Alex\":147, \"Bob\":-37, \"Steve\":-10}\n",
        "print(D)\n",
        "print(len(D))\n",
        "print(D[\"John\"])\n",
        "print(D[\"Bob\"])"
      ],
      "execution_count": 0,
      "outputs": []
    },
    {
      "cell_type": "markdown",
      "metadata": {
        "colab_type": "text",
        "id": "u31uvu3RBtUC"
      },
      "source": [
        "#### Iterating"
      ]
    },
    {
      "cell_type": "code",
      "metadata": {
        "colab_type": "code",
        "id": "pgBIAETnFRoX",
        "colab": {}
      },
      "source": [
        "for (k, v) in D.items():\n",
        "    if v >= 0:\n",
        "        print(\"{}'s account: {} (positive)\".format(k, v))\n",
        "    else:\n",
        "        print(\"{}'s account: {} (negative)\".format(k, v))"
      ],
      "execution_count": 0,
      "outputs": []
    },
    {
      "cell_type": "code",
      "metadata": {
        "colab_type": "code",
        "id": "Yolcrlh7FtEl",
        "colab": {}
      },
      "source": [
        "print(D.keys())\n",
        "print(D.values())"
      ],
      "execution_count": 0,
      "outputs": []
    },
    {
      "cell_type": "markdown",
      "metadata": {
        "colab_type": "text",
        "id": "B0Dyio59Bvy_"
      },
      "source": [
        "#### Assignment"
      ]
    },
    {
      "cell_type": "code",
      "metadata": {
        "colab_type": "code",
        "id": "fzKopFS6OJV9",
        "colab": {}
      },
      "source": [
        "# Add John if it doesn't exist, otherwise change it\n",
        "if \"John\" in D:\n",
        "    D[\"John\"] = D[\"John\"] - 100\n",
        "else:\n",
        "    D[\"John\"] = 10    \n",
        "print(D)\n",
        "\n",
        "# Set Leo \n",
        "D[\"Leo\"] = 100000\n",
        "print(D)\n",
        "\n",
        "# Remove Leo\n",
        "del D[\"Leo\"]\n",
        "print(D)"
      ],
      "execution_count": 0,
      "outputs": []
    },
    {
      "cell_type": "markdown",
      "metadata": {
        "colab_type": "text",
        "id": "ex3PMovpF8ZD"
      },
      "source": [
        "### Mini-Exercise: filtering data\n",
        "In the \"database\", return a list of (emails, age) of all customer with score > 500"
      ]
    },
    {
      "cell_type": "code",
      "metadata": {
        "colab_type": "code",
        "id": "2swN9jjoKswD",
        "colab": {}
      },
      "source": [
        "# This simply defines some random data\n",
        "# No need to understand the details\n",
        "import random\n",
        "names = [\"Juliane\",\"Timothy\",\"Camilla\",\"Elizbeth\",\"Nena\",\"Yolando\",\"Emerson\",\n",
        "         \"Katelynn\",\"Dreama\",\"Debi\",\"Becki\",\"Rossana\",\"Jennefer\",\"Mary\"]\n",
        "domain = [\"gmail.com\",\"outlook.com\",\"aol.net\"]\n",
        "data = {}\n",
        "for i in range(len(names)):\n",
        "    name  = names[i]\n",
        "    email = \"{}@{}\".format(name.lower(),random.choice(domain))\n",
        "    age   = random.randint(18, 75)\n",
        "    score = random.randint(350, 850)\n",
        "    data[name] = (email, age, score) \n",
        "\n",
        "# This prints the data nicely\n",
        "data"
      ],
      "execution_count": 0,
      "outputs": []
    },
    {
      "cell_type": "markdown",
      "metadata": {
        "colab_type": "text",
        "id": "dYqFMJjJCFm2"
      },
      "source": [
        "*TODO*: Return a list of (name, email) for all customer with a score > 500"
      ]
    },
    {
      "cell_type": "code",
      "metadata": {
        "cellView": "form",
        "colab_type": "code",
        "id": "U1jxDq2aQhcG",
        "colab": {}
      },
      "source": [
        "#@title Solution #1\n",
        "l1 = []\n",
        "for (k,v) in data.items():\n",
        "    if v[2] > 500:\n",
        "        l1.append((k,v[0]))\n",
        "# Nice print\n",
        "l1"
      ],
      "execution_count": 0,
      "outputs": []
    },
    {
      "cell_type": "code",
      "metadata": {
        "cellView": "form",
        "colab_type": "code",
        "id": "NWaj8O_CCXdg",
        "colab": {}
      },
      "source": [
        "#@title Solution #2\n",
        "l2 = [(k,v[0]) for (k,v) in data.items() if v[2] > 500]\n",
        "# Nice print\n",
        "l2"
      ],
      "execution_count": 0,
      "outputs": []
    },
    {
      "cell_type": "markdown",
      "metadata": {
        "colab_type": "text",
        "id": "I_KfQU1AiqQR"
      },
      "source": [
        "###Harder Mini-Exercice: merging dictionnaries\n",
        "We have a list of dictionnaries \"string\" => \"int\".\n",
        "Merge the dictionnaries into one. \n",
        "When two entries have the same key, keep the largest.\n"
      ]
    },
    {
      "cell_type": "code",
      "metadata": {
        "colab_type": "code",
        "id": "yFDUwrHyjDlU",
        "colab": {}
      },
      "source": [
        "from random import choice, randint\n",
        "from string import ascii_letters as al\n",
        "\n",
        "# Creates the data\n",
        "# No need to understand the details\n",
        "L = [{''.join([choice(al) for i in range(1)]):randint(1, 1000) for i in range(100)} for j in range(100)]"
      ],
      "execution_count": 0,
      "outputs": []
    },
    {
      "cell_type": "markdown",
      "metadata": {
        "colab_type": "text",
        "id": "A29Xrp-1Crui"
      },
      "source": [
        "*TODO:* We have a list `L` of distionnaries (`L[0]` is one, `L[1]` is another, etc). Each dictionnary is a set of string=>integer key-values pair.\n",
        "\n",
        "Merge them all into one, i.e., create one dictionnary of string=>integer defined as the union of all the dictionnaries on L.\n",
        "\n",
        "When you have multiple data for the same key, keep the largest (maximum)."
      ]
    },
    {
      "cell_type": "code",
      "metadata": {
        "cellView": "form",
        "colab_type": "code",
        "id": "6CaVscUmQtiW",
        "colab": {}
      },
      "source": [
        "#@title Solution\n",
        "# TODO: Merge the data\n",
        "M = {}\n",
        "for d in L:\n",
        "    for (k,v) in d.items():\n",
        "        if k in M:\n",
        "            M[k] = max(v, M[k])\n",
        "        else:\n",
        "            M[k] = v  \n",
        "print(M) "
      ],
      "execution_count": 0,
      "outputs": []
    },
    {
      "cell_type": "markdown",
      "metadata": {
        "colab_type": "text",
        "id": "ehwL19X3WWvo"
      },
      "source": [
        "## Reading files"
      ]
    },
    {
      "cell_type": "markdown",
      "metadata": {
        "colab_type": "text",
        "id": "MRq-o1YqEfpM"
      },
      "source": [
        "First way. Using explicit `open` and `close`."
      ]
    },
    {
      "cell_type": "code",
      "metadata": {
        "colab_type": "code",
        "id": "5AZgOrcNWpSO",
        "colab": {}
      },
      "source": [
        "# Open the file and create a `handle` (link) to it\n",
        "f = open(\"text.txt\",'r')\n",
        "# Iterates through all lines\n",
        "for l in f:\n",
        "    print(l)\n",
        "# IMPORTANT! Close the file\n",
        "f.close() "
      ],
      "execution_count": 0,
      "outputs": []
    },
    {
      "cell_type": "markdown",
      "metadata": {
        "colab_type": "text",
        "id": "kFj9eZ5QE5E1"
      },
      "source": [
        "Second way. Using the `with` construct"
      ]
    },
    {
      "cell_type": "code",
      "metadata": {
        "colab_type": "code",
        "id": "0MWUnmc-EfBD",
        "colab": {}
      },
      "source": [
        "with open(\"text.txt\",\"r\") as f:\n",
        "    for l in f:\n",
        "        print(l)"
      ],
      "execution_count": 0,
      "outputs": []
    },
    {
      "cell_type": "markdown",
      "metadata": {
        "colab_type": "text",
        "id": "H-knql6mFJwH"
      },
      "source": [
        "## Writing files"
      ]
    },
    {
      "cell_type": "code",
      "metadata": {
        "colab_type": "code",
        "id": "d35qeQ4K_4Uw",
        "colab": {}
      },
      "source": [
        "with open(\"text-write.txt\", \"w\") as f:\n",
        "    f.write(\"First line\\n\") \n",
        "    f.write(\"Second line\\n\")"
      ],
      "execution_count": 0,
      "outputs": []
    },
    {
      "cell_type": "code",
      "metadata": {
        "colab_type": "code",
        "id": "R3lT8LA7FW-B",
        "colab": {}
      },
      "source": [
        "!cat text-write.txt # Read file using shell command"
      ],
      "execution_count": 0,
      "outputs": []
    },
    {
      "cell_type": "markdown",
      "metadata": {
        "colab_type": "text",
        "id": "OC77P0-Ikn3i"
      },
      "source": [
        "## Long exercise: read file, count frequencies of words, remove short ones and display the 10 most frequent"
      ]
    },
    {
      "cell_type": "markdown",
      "metadata": {
        "colab_type": "text",
        "id": "Gs2lkLs4p7JN"
      },
      "source": [
        "The text-file `star_wars_4th.txt` contains the 4th Star Wars script.\n",
        "\n",
        "We want you to find the 10 most common words of more than 4 characters.\n"
      ]
    },
    {
      "cell_type": "code",
      "metadata": {
        "colab_type": "code",
        "id": "3gkpPhANlVG1",
        "colab": {}
      },
      "source": [
        "# Boiler plate\n",
        "import string\n",
        "\n",
        "# Some hints:\n",
        "\n",
        "# Break string into words\n",
        "s = \"Comment est mon anglais?\"\n",
        "print(s.split()) # = [\"Comment\", \"est\", \"mon\", \"anglais?\"]\n",
        "\n",
        "# Convert to lowercases\n",
        "s = \"INCROYABLE\"\n",
        "print(s.lower()) # = \"incroyable\""
      ],
      "execution_count": 0,
      "outputs": []
    },
    {
      "cell_type": "markdown",
      "metadata": {
        "colab_type": "text",
        "id": "3RISJlWYFjta"
      },
      "source": [
        "*TODO*: \n",
        "0. Initialize an empty dictionnary.\n",
        "1. read file line by line\n",
        "    - Break line into words\n",
        "    - Convert each word to lower case. BONUS: remove any punctuation\n",
        "    - If the word has more than 4 characters:\n",
        "        - If the word is already in the dictionnary, increment its count by 1        \n",
        "        - Else, add word to dictionnary with count of 1\n",
        "2. Convert dictionnary to list of (word, count). Use list(dict.items()) to that.\n",
        "3. Sort (descending) by word count. Google to find out how.\n",
        "4. Print the 10 most frequent"
      ]
    },
    {
      "cell_type": "code",
      "metadata": {
        "cellView": "form",
        "colab_type": "code",
        "id": "DiuqDObpQ1FO",
        "colab": {}
      },
      "source": [
        "#@title Solution\n",
        "import string\n",
        "words = {} # Store word:count pairs\n",
        "with open(\"star_wars_4th.txt\",'r') as f:\n",
        "    for line in f:\n",
        "        for w_ in line.split():\n",
        "            w = w_.lower()\n",
        "            if len(w) > 4:\n",
        "                if w in words:\n",
        "                    words[w] += 1\n",
        "                else:\n",
        "                    words[w] = 1\n",
        "words = list(words.items())\n",
        "words = sorted(words, key=lambda x:x[1], reverse=True)\n",
        "words[:10]               "
      ],
      "execution_count": 0,
      "outputs": []
    },
    {
      "cell_type": "markdown",
      "metadata": {
        "colab_type": "text",
        "id": "De0JIcZIRPt9"
      },
      "source": [
        "## Extra Exercise: reading and processing text data\n"
      ]
    },
    {
      "cell_type": "code",
      "metadata": {
        "colab_type": "code",
        "id": "5Z5GS5zjUPPP",
        "colab": {}
      },
      "source": [
        "# TODO:\n",
        "# (1) Read dist.female.first and dist.male.first files\n",
        "#     Each file has many lines, each following the format\n",
        "#         NAMES         x y z\n",
        "#     Only the first word (the name) matters. You can ignore x, y and z\n",
        "# (2) For each file, go through all lines, read the name (by splitting) the line\n",
        "# (3) Find the names in common between the two files"
      ],
      "execution_count": 0,
      "outputs": []
    },
    {
      "cell_type": "code",
      "metadata": {
        "cellView": "form",
        "colab_type": "code",
        "id": "4-eNUQ-WRppc",
        "colab": {}
      },
      "source": [
        "#@title Solution\n",
        "names = {}\n",
        "with open(\"dist.female.first\",'r') as f:\n",
        "    for line in f:\n",
        "        name = line.split()[0]\n",
        "        names[name] = 1\n",
        "with open(\"dist.male.first\",'r') as f:\n",
        "    for line in f:\n",
        "        name = line.split()[0]\n",
        "        if name in names:            \n",
        "            names[name] += 1\n",
        "print(n)\n",
        "for (k,v) in names.items():\n",
        "    if v == 2:\n",
        "        print(k)"
      ],
      "execution_count": 0,
      "outputs": []
    },
    {
      "cell_type": "markdown",
      "metadata": {
        "colab_type": "text",
        "id": "Xd-pkEyshDHw"
      },
      "source": [
        "# More Advanced Concepts"
      ]
    },
    {
      "cell_type": "markdown",
      "metadata": {
        "colab_type": "text",
        "id": "mKBfjPxJX5nh"
      },
      "source": [
        "## Functions"
      ]
    },
    {
      "cell_type": "code",
      "metadata": {
        "colab_type": "code",
        "id": "NUK0hXJhiurr",
        "colab": {}
      },
      "source": [
        "# Basic function\n",
        "def foo(x, y):\n",
        "    return x+y\n",
        "\n",
        "a = foo(1, 5)\n",
        "print(a)\n",
        "b = foo(2, 5)\n",
        "print(b)"
      ],
      "execution_count": 0,
      "outputs": []
    },
    {
      "cell_type": "code",
      "metadata": {
        "colab_type": "code",
        "id": "YrUJvZpHSz4g",
        "colab": {}
      },
      "source": [
        "# Even functions are objects!\n",
        "print(type(foo))"
      ],
      "execution_count": 0,
      "outputs": []
    },
    {
      "cell_type": "code",
      "metadata": {
        "colab_type": "code",
        "id": "JxCcAel-l6WK",
        "colab": {}
      },
      "source": [
        "# This means this is allowed\n",
        "f = foo\n",
        "print(f(1,2))"
      ],
      "execution_count": 0,
      "outputs": []
    },
    {
      "cell_type": "markdown",
      "metadata": {
        "colab_type": "text",
        "id": "XfaEBpp9H6ey"
      },
      "source": [
        "### Default arguments"
      ]
    },
    {
      "cell_type": "code",
      "metadata": {
        "colab_type": "code",
        "id": "Zr2FYACiS3iR",
        "colab": {}
      },
      "source": [
        "# Default arguments\n",
        "def bar(x, y=2, z=3):\n",
        "    print(x+y+z)\n",
        "    \n",
        "# Positional arguments\n",
        "bar(1)\n",
        "bar(1, 3)\n",
        "bar(1, 3, 5)\n",
        "\n",
        "# Position + keyword arguments\n",
        "bar(1, z=2)\n",
        "bar(z=1, x=10)"
      ],
      "execution_count": 0,
      "outputs": []
    },
    {
      "cell_type": "markdown",
      "metadata": {
        "colab_type": "text",
        "id": "5p3N0yflIKmE"
      },
      "source": [
        "### Anonymous functions"
      ]
    },
    {
      "cell_type": "code",
      "metadata": {
        "colab_type": "code",
        "id": "ArPFcG45S-tX",
        "colab": {}
      },
      "source": [
        "# Anonymous function\n",
        "f = lambda x:x + 2\n",
        "print(f(2))"
      ],
      "execution_count": 0,
      "outputs": []
    },
    {
      "cell_type": "code",
      "metadata": {
        "colab_type": "code",
        "id": "uMdSkjl1mOx5",
        "colab": {}
      },
      "source": [
        "# A function returning functions!\n",
        "def add_(x):\n",
        "    return (lambda y: x + y)\n",
        "f = add_(1)\n",
        "print(f(2))"
      ],
      "execution_count": 0,
      "outputs": []
    },
    {
      "cell_type": "markdown",
      "metadata": {
        "colab_type": "text",
        "id": "UhdsFQ8nHOHw"
      },
      "source": [
        "### Exercice: function definition\n",
        "\n",
        "Define a 3-lines function greet(names, msg) where `names` is a list of names (strings) and that prints, for all `name` in `names`\n",
        "```\n",
        "msg name!\n",
        "```\n",
        "where `msg` takes the default value `Hello`, but can be overridden if provided."
      ]
    },
    {
      "cell_type": "markdown",
      "metadata": {
        "colab_type": "text",
        "id": "LPvGlBY6JIbG"
      },
      "source": [
        "*TODO:* build function greet(...) as defined above"
      ]
    },
    {
      "cell_type": "code",
      "metadata": {
        "cellView": "form",
        "colab_type": "code",
        "id": "iGaiIZAkRwP8",
        "colab": {}
      },
      "source": [
        "#@title Solution\n",
        "def greet(names, msg=\"Hello\"):\n",
        "    for n in names:\n",
        "        print(\"{} {}!\".format(msg, n))"
      ],
      "execution_count": 0,
      "outputs": []
    },
    {
      "cell_type": "code",
      "metadata": {
        "colab_type": "code",
        "id": "iADVWxYCUPcK",
        "colab": {}
      },
      "source": [
        "# This should then be working :        \n",
        "greet([\"Leopold\", \"Cindy\", \"John\", \"Bob\"], msg=\"Coucou\")"
      ],
      "execution_count": 0,
      "outputs": []
    },
    {
      "cell_type": "markdown",
      "metadata": {
        "colab_type": "text",
        "id": "XVDemxqEDidh"
      },
      "source": [
        "## Iterables & Generators\n",
        "\n",
        "Anything we can do `for x in ...` is an iterable."
      ]
    },
    {
      "cell_type": "code",
      "metadata": {
        "colab_type": "code",
        "id": "KSECKhg5DsPU",
        "colab": {}
      },
      "source": [
        "for i in range(5):\n",
        "    print(i)"
      ],
      "execution_count": 0,
      "outputs": []
    },
    {
      "cell_type": "code",
      "metadata": {
        "colab_type": "code",
        "id": "hpg1UDZOELup",
        "colab": {}
      },
      "source": [
        "for s in \"a string!\":\n",
        "    print(s)"
      ],
      "execution_count": 0,
      "outputs": []
    },
    {
      "cell_type": "code",
      "metadata": {
        "colab_type": "code",
        "id": "nkyefeGxF7fw",
        "colab": {}
      },
      "source": [
        "for l in [1, 2, 3]:\n",
        "    print(l)"
      ],
      "execution_count": 0,
      "outputs": []
    },
    {
      "cell_type": "code",
      "metadata": {
        "colab_type": "code",
        "id": "Rl8mmF7cxwaW",
        "colab": {}
      },
      "source": [
        "d = {\"a\":1, \"b\":2, \"c\":100}\n",
        "for (k, v) in d.items():\n",
        "    print(k)\n",
        "    print(v)\n",
        "    "
      ],
      "execution_count": 0,
      "outputs": []
    },
    {
      "cell_type": "markdown",
      "metadata": {
        "colab_type": "text",
        "id": "Nmn4PXzGF9pk"
      },
      "source": [
        "Those are all iterables. \n",
        "Those are objects that one can iterate over. \n",
        "A generator is iterable but that does not require the construction of all the elements beforehand.\n",
        "\n",
        "We use the keyword yield to create a simple generator."
      ]
    },
    {
      "cell_type": "code",
      "metadata": {
        "colab_type": "code",
        "id": "Rhdw-cFIGPTw",
        "colab": {}
      },
      "source": [
        "def squares10():\n",
        "    for n in range(10):\n",
        "        yield n**2\n",
        "\n",
        "for x in squares10():\n",
        "    print(x)   "
      ],
      "execution_count": 0,
      "outputs": []
    },
    {
      "cell_type": "markdown",
      "metadata": {
        "colab_type": "text",
        "id": "fGbWVn4fGeN1"
      },
      "source": [
        "### Exercise: create a generator for the $n$ first fibonnaci numbers\n",
        "Create a generator for the first $n$ elements of the Fibonacci sequence:\n",
        "$$ n_0 = 1, n_1 = 1, n_{i+1} = n_i + n_{i-1} $$"
      ]
    },
    {
      "cell_type": "markdown",
      "metadata": {
        "colab_type": "text",
        "id": "sAdrpJZGMIDD"
      },
      "source": [
        "*TODO:* define a function fibo(n) yielding the first n Fibonnaci numbers.\n",
        "Use it to print the first 10."
      ]
    },
    {
      "cell_type": "code",
      "metadata": {
        "cellView": "form",
        "colab_type": "code",
        "id": "6x1ydXmnR75F",
        "colab": {}
      },
      "source": [
        "#@title Solution\n",
        "def fibo(n):\n",
        "    a = 1\n",
        "    b = 1\n",
        "    yield a\n",
        "    for i in range(1, n):\n",
        "        (a, b) = (b, a+b)\n",
        "        yield a\n",
        "        \n",
        "for x in fibo(10):\n",
        "    print(x)"
      ],
      "execution_count": 0,
      "outputs": []
    },
    {
      "cell_type": "markdown",
      "metadata": {
        "colab_type": "text",
        "id": "jB75ZryjKA35"
      },
      "source": [
        "### Exercise: reverse, map, filter\n",
        "\n",
        "Reverse : Create a generator that takes a collection (like a list) as input, and generates the reverse list\n",
        "\n",
        "Map : Create a generator that takes a function and an iterable, and returns the function applied on each element\n",
        "\n",
        "Filter: Create a generator that takes a function f, and iterable, and generate the elements e for which the function f(e) returns True.\n",
        "\n",
        "Trick for printing: ```list(g)```  returns a list of the elements generated by g."
      ]
    },
    {
      "cell_type": "markdown",
      "metadata": {
        "colab_type": "text",
        "id": "dLXK6DJEMWG3"
      },
      "source": [
        "*TODO:* define the `myreverse` and `mymap` functions    "
      ]
    },
    {
      "cell_type": "code",
      "metadata": {
        "cellView": "form",
        "colab_type": "code",
        "id": "AzfqMq2XSFnq",
        "colab": {}
      },
      "source": [
        "#@title Solution\n",
        "def myreverse(l):\n",
        "    for i in range(len(l)-1,-1,-1):\n",
        "        yield l[i]\n",
        "\n",
        "def mymap(f, l):\n",
        "    for x in l:\n",
        "        yield f(x)\n",
        "\n",
        "def myfilter(f, l):\n",
        "    for x in l:\n",
        "        if f(x):\n",
        "            yield x\n"
      ],
      "execution_count": 0,
      "outputs": []
    },
    {
      "cell_type": "code",
      "metadata": {
        "colab_type": "code",
        "id": "NYpOedcoUWKa",
        "colab": {}
      },
      "source": [
        "# This should then be working:\n",
        "l = [1,2,3,4]\n",
        "print(list(myreverse(l)))   \n",
        "print(list(mymap(lambda x:x**2, l)))\n",
        "print(list(myfilter(lambda x: x%2==0, l)))"
      ],
      "execution_count": 0,
      "outputs": []
    },
    {
      "cell_type": "markdown",
      "metadata": {
        "colab_type": "text",
        "id": "jFaDudyQBNJs"
      },
      "source": [
        "## Python \"Memory Model\" (AKA How to stop being confused)"
      ]
    },
    {
      "cell_type": "markdown",
      "metadata": {
        "colab_type": "text",
        "id": "NAZGnxTw_-Dm"
      },
      "source": [
        "\n",
        "Python memory model:\n",
        "- Variables point to data in memory\n",
        "- All variables are object (\"type(a) is class 'int'\")\n",
        "- Some objects are mutable (can be changed), some are immutable (cannot be changed)"
      ]
    },
    {
      "cell_type": "markdown",
      "metadata": {
        "colab_type": "text",
        "id": "FsGG4QdtcCS1"
      },
      "source": [
        "### Variable binding"
      ]
    },
    {
      "cell_type": "markdown",
      "metadata": {
        "colab_type": "text",
        "id": "ubM4QjbVX2WL"
      },
      "source": [
        "When we write\n",
        "```\n",
        "a = ...\n",
        "a = ...\n",
        "```\n",
        "we simply \"rebind\" a: it points (refers) to something else. The underlying data may or may not be modified.\n",
        "\n"
      ]
    },
    {
      "cell_type": "code",
      "metadata": {
        "colab_type": "code",
        "id": "BVak7bHLAwHL",
        "colab": {}
      },
      "source": [
        "a = 2\n",
        "a = 3 # This creates a ~new~ \"2\" in memory and points a to it"
      ],
      "execution_count": 0,
      "outputs": []
    },
    {
      "cell_type": "code",
      "metadata": {
        "colab_type": "code",
        "id": "oKdomzzBY1Bk",
        "colab": {}
      },
      "source": [
        "a = \"Stanford\"\n",
        "b = a\n",
        "a = \"ICME\"\n",
        "print(b)"
      ],
      "execution_count": 0,
      "outputs": []
    },
    {
      "cell_type": "code",
      "metadata": {
        "colab_type": "code",
        "id": "a-rvPFT5ZUiq",
        "colab": {}
      },
      "source": [
        "a = [1, 2, 3]\n",
        "b = a\n",
        "a[0] = \"ICME\"\n",
        "print(b)"
      ],
      "execution_count": 0,
      "outputs": []
    },
    {
      "cell_type": "code",
      "metadata": {
        "colab_type": "code",
        "id": "rR9l7H7DA17a",
        "colab": {}
      },
      "source": [
        "a = [1, 2]\n",
        "t = (a, 1, \"String\")\n",
        "a[0] = [3, 4]\n",
        "print(t)"
      ],
      "execution_count": 0,
      "outputs": []
    },
    {
      "cell_type": "markdown",
      "metadata": {
        "colab_type": "text",
        "id": "COZ1ZjWUbLXX"
      },
      "source": [
        "### Immutable vs Mutable\n",
        "In Python, an object is either mutable or immutable. Mutable object can be changed. Immutable can't."
      ]
    },
    {
      "cell_type": "markdown",
      "metadata": {
        "colab_type": "text",
        "id": "V5FfALuLAoN5"
      },
      "source": [
        "- Lists, dictionnaries are mutable\n",
        "- **Tuple**, int, string, double are immutable\n",
        "- Complex structures are usually mutable\n"
      ]
    },
    {
      "cell_type": "code",
      "metadata": {
        "colab_type": "code",
        "id": "s-TI1jZCbK8L",
        "colab": {}
      },
      "source": [
        "a = [1, 2, 3, 4]\n",
        "a[2] = 10 # OK: list are mutable"
      ],
      "execution_count": 0,
      "outputs": []
    },
    {
      "cell_type": "code",
      "metadata": {
        "colab_type": "code",
        "id": "yFvKXbRJbcy1",
        "colab": {}
      },
      "source": [
        "s = \"abcdef\"\n",
        "# s[0] = 'e' # NOT OK: immutable"
      ],
      "execution_count": 0,
      "outputs": []
    },
    {
      "cell_type": "code",
      "metadata": {
        "colab_type": "code",
        "id": "KA99i_FRbe1n",
        "colab": {}
      },
      "source": [
        "t = (1, 4, 2)\n",
        "# t[1] = 3 # NOT OK: immutable"
      ],
      "execution_count": 0,
      "outputs": []
    },
    {
      "cell_type": "code",
      "metadata": {
        "colab_type": "code",
        "id": "SMuM89enbhFl",
        "colab": {}
      },
      "source": [
        "t = ([1, 2, 3], \"test\", (3, 4)) # Quid ?"
      ],
      "execution_count": 0,
      "outputs": []
    },
    {
      "cell_type": "code",
      "metadata": {
        "colab_type": "code",
        "id": "lZtS_qYCbuuS",
        "colab": {}
      },
      "source": [
        "# Mutable in immutable\n",
        "t[0][0] = 3 # OK: list mutable\n",
        "print(t)\n",
        "# t[0] = [4, 5] # NOT OK: tuple immutable"
      ],
      "execution_count": 0,
      "outputs": []
    },
    {
      "cell_type": "code",
      "metadata": {
        "colab_type": "code",
        "id": "6wiHYiUxbv4y",
        "colab": {}
      },
      "source": [
        "# Immutable in mutable\n",
        "# t[1] = \"test 2\" # NOT OK: tuple immutable\n",
        "# t[1][0] = 'u' # NOT OK: string immutable"
      ],
      "execution_count": 0,
      "outputs": []
    },
    {
      "cell_type": "markdown",
      "metadata": {
        "colab_type": "text",
        "id": "qFyCs0axcFSx"
      },
      "source": [
        "### Function arguments"
      ]
    },
    {
      "cell_type": "markdown",
      "metadata": {
        "colab_type": "text",
        "id": "NNmsMWowYCn0"
      },
      "source": [
        "Functions take their argumets by reference. We receive a reference to some object in memory.\n",
        "```\n",
        "def fun(x):\n",
        "    # Here, x points to something\n",
        "```\n",
        "At this point if we write\n",
        "```\n",
        "    x = ...\n",
        "```\n",
        "we merely \"bind\" x to some other object in memory. We haven't touched the input \"x\".\n",
        "On the other hand,\n",
        "```\n",
        "    somefunction(x)\n",
        "```\n",
        "may modify x, or not, depending on the function definition.\n"
      ]
    },
    {
      "cell_type": "markdown",
      "metadata": {
        "colab_type": "text",
        "id": "mUXJuB_UDrtZ"
      },
      "source": [
        "### Mini-Quizz"
      ]
    },
    {
      "cell_type": "code",
      "metadata": {
        "colab_type": "code",
        "id": "RLgwd3UFA4_z",
        "colab": {}
      },
      "source": [
        "## (1)\n",
        "def fun(x):\n",
        "    x = 2\n",
        "    return x\n",
        "\n",
        "a = 3\n",
        "fun(a)\n",
        "print(a) # = ?"
      ],
      "execution_count": 0,
      "outputs": []
    },
    {
      "cell_type": "code",
      "metadata": {
        "colab_type": "code",
        "id": "2FdBRCqmEbFs",
        "colab": {}
      },
      "source": [
        "## (2)\n",
        "def fun2(x):\n",
        "    x[0] = 1\n",
        "\n",
        "a = [9, 8, 7]\n",
        "b = a\n",
        "fun2(b)\n",
        "print(a) # = ?"
      ],
      "execution_count": 0,
      "outputs": []
    },
    {
      "cell_type": "code",
      "metadata": {
        "colab_type": "code",
        "id": "SIebuW8XEcl8",
        "colab": {}
      },
      "source": [
        "## (3)\n",
        "def fun3(x):\n",
        "    x[0] = (1, 4, 5)\n",
        "\n",
        "a = [(1,2,3),3,2]\n",
        "fun3(a)\n",
        "print(a) # = ?\n",
        "# a[0][0] = 2\n",
        "# print(a) # = ?"
      ],
      "execution_count": 0,
      "outputs": []
    },
    {
      "cell_type": "code",
      "metadata": {
        "colab_type": "code",
        "id": "YRublieSaKEs",
        "colab": {}
      },
      "source": [
        "## (4)\n",
        "def fun4(x):\n",
        "    x[0][0] = 2\n",
        "\n",
        "a = ([1,2,3],1)\n",
        "b = a\n",
        "fun4(b)\n",
        "\n",
        "print(a) # = ?"
      ],
      "execution_count": 0,
      "outputs": []
    },
    {
      "cell_type": "markdown",
      "metadata": {
        "colab_type": "text",
        "id": "Ofo01pxsWq3u"
      },
      "source": [
        "### Copy and Deepcopy\n",
        "\n",
        "Python's objects have the copy and deepcopy functions.\n",
        "\n",
        "`copy` does a *shallow* copy of an object. It copies the object, but the other objects it references are not copied.\n",
        "\n",
        "`deepcopy` does a *deep* copy (as the name indicates). It copies the object and all referenced data-strucutres, recursively.\n"
      ]
    },
    {
      "cell_type": "code",
      "metadata": {
        "colab_type": "code",
        "id": "_KwUmY4-W8I2",
        "colab": {}
      },
      "source": [
        "import copy\n",
        "\n",
        "A1 = [1, 2]\n",
        "A2 = [3, 4]\n",
        "A3 = [5, 6]"
      ],
      "execution_count": 0,
      "outputs": []
    },
    {
      "cell_type": "code",
      "metadata": {
        "colab_type": "code",
        "id": "15BjpbSkPI9x",
        "colab": {}
      },
      "source": [
        "# Like before\n",
        "L1 = [A1, A2]\n",
        "L2 = L1 # L1 and L2 point to the same lists, so modifying one modifies the other\n",
        "L1[0] = A3\n",
        "print(L1)\n",
        "print(L2)\n"
      ],
      "execution_count": 0,
      "outputs": []
    },
    {
      "cell_type": "code",
      "metadata": {
        "colab_type": "code",
        "id": "Sf98hHz2PKP4",
        "colab": {}
      },
      "source": [
        "# Using a copy\n",
        "L1 = [A1, A2]\n",
        "L2 = L1.copy()\n",
        "L2[0] = A3\n",
        "print(L1)\n",
        "print(L2)"
      ],
      "execution_count": 0,
      "outputs": []
    },
    {
      "cell_type": "code",
      "metadata": {
        "colab_type": "code",
        "id": "k2Rup3upPLbp",
        "colab": {}
      },
      "source": [
        "# However...\n",
        "A2[0] = 0\n",
        "print(L1)\n",
        "print(L2)"
      ],
      "execution_count": 0,
      "outputs": []
    },
    {
      "cell_type": "code",
      "metadata": {
        "colab_type": "code",
        "id": "76CT0gTgPMkV",
        "colab": {}
      },
      "source": [
        "# Using a deepcopy\n",
        "L1 = [A1, A2]\n",
        "L2 = copy.deepcopy(L1)\n",
        "A2[0] = 0\n",
        "print(L1)\n",
        "print(L2)"
      ],
      "execution_count": 0,
      "outputs": []
    },
    {
      "cell_type": "markdown",
      "metadata": {
        "colab_type": "text",
        "id": "-l7B7MyMX4D0"
      },
      "source": [
        "## Classes"
      ]
    },
    {
      "cell_type": "code",
      "metadata": {
        "colab_type": "code",
        "id": "Fxnw1HW0k00C",
        "colab": {}
      },
      "source": [
        "class Complex:  \n",
        "    def __init__(self, real, imag):\n",
        "        self.r = real\n",
        "        self.i = imag\n",
        "    def add(self, other):\n",
        "        c = Complex(0, 0)\n",
        "        c.r = self.r + other.r\n",
        "        c.i = self.i + other.i    \n",
        "        return c\n",
        "    def sub(self, other):\n",
        "        c = Complex(0, 0)\n",
        "        c.r = self.r - other.r\n",
        "        c.i = self.i - other.i    \n",
        "        return c"
      ],
      "execution_count": 0,
      "outputs": []
    },
    {
      "cell_type": "markdown",
      "metadata": {
        "colab_type": "text",
        "id": "C9ZwTl1ip_Iv"
      },
      "source": [
        "### Mini-Exercice: complex multiplication\n",
        "In the above code, implement the complex product\n",
        "\n",
        "As a reminder, \n",
        "(a + bi)*(c + di) = (ac - bd) + (ad + bc)i"
      ]
    },
    {
      "cell_type": "markdown",
      "metadata": {
        "colab_type": "text",
        "id": "CtsaluKBfU4B"
      },
      "source": [
        "### Harder Mini-Exercise: better Complex class\n",
        "Can you find out how to be able to write instead\n",
        "```\n",
        "a = Complex(1, 2)\n",
        "b = Complex(2, 3)\n",
        "c = a + b \n",
        "d = a * b\n",
        "print(c)\n",
        "```\n",
        "?"
      ]
    },
    {
      "cell_type": "markdown",
      "metadata": {
        "colab_type": "text",
        "id": "39QVzqterpH7"
      },
      "source": [
        "## Modules\n",
        "Modules are Python way of organizing large codes.\n",
        "When you have many files doing many different things, you need to find ways to organize that. You cannot just rely on every function having a unique name.\n",
        "\n",
        "We already saw and use some"
      ]
    },
    {
      "cell_type": "code",
      "metadata": {
        "colab_type": "code",
        "id": "oAVu7ZcRr2zc",
        "colab": {}
      },
      "source": [
        "import math\n",
        "import random\n",
        "import string"
      ],
      "execution_count": 0,
      "outputs": []
    },
    {
      "cell_type": "markdown",
      "metadata": {
        "colab_type": "text",
        "id": "RyPx_oNzr8Tb"
      },
      "source": [
        "Modules, functions and variables can be imported in various ways"
      ]
    },
    {
      "cell_type": "code",
      "metadata": {
        "colab_type": "code",
        "id": "DxvUqcjIsAFA",
        "colab": {}
      },
      "source": [
        "# (1)\n",
        "import math\n",
        "print(math.pi)\n",
        "print(math.sqrt(2))\n",
        "    \n",
        "# (2)\n",
        "import math as m\n",
        "print(m.pi)\n",
        "print(m.sqrt(2))\n",
        "\n",
        "# (3)\n",
        "from math import pi, sqrt\n",
        "print(pi)\n",
        "print(sqrt(2))\n",
        "\n",
        "# (4) [Bad]\n",
        "from math import *\n",
        "print(pi)\n",
        "print(sqrt(2))\n",
        "print(exp(1))"
      ],
      "execution_count": 0,
      "outputs": []
    },
    {
      "cell_type": "markdown",
      "metadata": {
        "colab_type": "text",
        "id": "jxbuxs8As0H2"
      },
      "source": [
        "# Extra-Exercises for the break\n",
        "Taken from https://developers.google.com/edu/python/"
      ]
    },
    {
      "cell_type": "code",
      "metadata": {
        "colab_type": "code",
        "id": "gZJSC92Hs3Gq",
        "colab": {}
      },
      "source": [
        "# (1) Create function mixing(a, b) that, given two strings a & b, returns a<space>b (a and b separated by a space), \n",
        "# but swapping the first two characters of a and b\n",
        "# and returns the result\n",
        "#\n",
        "# Example\n",
        "# mixing(\"stanford\", \"python\") returns \"pyanford stthon\"\n",
        "\n",
        "def mixing(a, b):\n",
        "    # Your code here. Remove 'pass'.\n",
        "    pass\n",
        "\n",
        "# Check\n",
        "print(mixing(\"stanford\", \"python\")) # =?= pyanford stthon\n",
        "print(mixing(\"educ\", \"128\"))        # =?= 12uc ed8"
      ],
      "execution_count": 0,
      "outputs": []
    },
    {
      "cell_type": "code",
      "metadata": {
        "colab_type": "code",
        "id": "Xaz-ADnuutc4",
        "colab": {}
      },
      "source": [
        "# (2) Create function ing(a) that, given a string a,\n",
        "# if it has length < 3, leave it unchanged\n",
        "# else if it ends in \"ing\", append \"ly\"\n",
        "# otherwise, append \"ing\"\n",
        "# and return the result\n",
        "\n",
        "def ing(a):\n",
        "    # Your code here. Remove 'pass'.\n",
        "    pass\n",
        "\n",
        "# Check\n",
        "print(ing(\"python\"))      # =?= pythoning\n",
        "print(ing(\"engineering\")) # =?= engineeringly\n",
        "print(ing(\"ly\"))          # =?= ly"
      ],
      "execution_count": 0,
      "outputs": []
    },
    {
      "cell_type": "code",
      "metadata": {
        "colab_type": "code",
        "id": "0gSvLsshvbYF",
        "colab": {}
      },
      "source": [
        "# (3) Create a function trim(l) that, given a list l, remove all identical adjacent elements\n",
        "# and return the result. It should not modify its input.\n",
        "\n",
        "def trim(l):\n",
        "    # Your code here. Remove 'pass'.\n",
        "    pass\n",
        "\n",
        "# Check\n",
        "print(trim([1, 2, 3, 3, 4, 2, 2]))  # =?= [1, 2, 3, 4, 2]\n",
        "print(trim([]))                     # =?= []\n",
        "print(trim([1, 2, 1, 2]))           # =?= [1, 2, 1, 2]"
      ],
      "execution_count": 0,
      "outputs": []
    },
    {
      "cell_type": "markdown",
      "metadata": {
        "colab_type": "text",
        "id": "qp8M9Oz8wf6u"
      },
      "source": [
        "## More creative exercises\n",
        "\n",
        "A couple more ideas of exercises. Be creative here!\n",
        "Inspired from http://www.practicepython.org/\n",
        "\n",
        "*   Create a password generator. Given `n`, your function should return a strong random password of `n` characters.\n",
        "*   Reverse Word Order. Given a string, your function should return the same string but with the words in reversed order (the words themselves should be unchanged)\n",
        "\n"
      ]
    }
  ]
}